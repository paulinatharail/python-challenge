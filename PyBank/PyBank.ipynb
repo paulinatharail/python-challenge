{
 "cells": [
  {
   "cell_type": "code",
   "execution_count": 1,
   "metadata": {},
   "outputs": [],
   "source": [
    "import os\n",
    "import csv\n",
    "\n"
   ]
  },
  {
   "cell_type": "code",
   "execution_count": 3,
   "metadata": {},
   "outputs": [
    {
     "name": "stdout",
     "output_type": "stream",
     "text": [
      "Resources/budget_data.csv\n"
     ]
    }
   ],
   "source": [
    "#path to the data (~/Resources/budget_data.csv)\n",
    "bank_csv = os.path.join(\"Resources\", \"budget_data.csv\")\n",
    "print (bank_csv)"
   ]
  },
  {
   "cell_type": "code",
   "execution_count": 20,
   "metadata": {},
   "outputs": [
    {
     "name": "stdout",
     "output_type": "stream",
     "text": [
      "Total months: 86\n",
      "Total: 38382578\n",
      "Greatest Increase in Profits: Feb-2012 ($1170593)\n",
      "Greatest Decrease in Profits: Sep-2013 ($-1196225)\n"
     ]
    }
   ],
   "source": [
    "#open the file \n",
    "with open (bank_csv, newline=\"\") as bankcsvfile:\n",
    "    #create a reader for the file\n",
    "    csv_reader = csv.reader(bankcsvfile, delimiter = \",\") \n",
    "    \n",
    "    csv_header = next(csv_reader)\n",
    "    #print (f\"The csv header is {csv_header}\")\n",
    "    \n",
    "    #Variable Initialization\n",
    "    monthCount = 0 \n",
    "    netTotal = 0\n",
    "\n",
    "    greatestProfitIncreaseMonth = ''\n",
    "    greatestProfitIncreaseAmount = 0\n",
    "\n",
    "    greatestProfitDecreaseMonth = ''\n",
    "    greatestProfitDecreaseAmount = 0\n",
    "\n",
    "    \n",
    "    \n",
    "    for row in csv_reader: #for each row in the csv file \n",
    "        #count #months in csv file\n",
    "        monthCount += 1\n",
    "        \n",
    "        #Assign the profit/loss amount and month of each row to variable\n",
    "        RowAmount = int(row[1])\n",
    "        RowMonth = row[0]\n",
    "        \n",
    "        #total net amount of \"Profit/Losses\"\n",
    "        netTotal = netTotal + RowAmount #2nd column => Profit/Loss column\n",
    "        \n",
    "        #greatest increase in profits (date & amount)\n",
    "        if RowAmount > 0: #profit\n",
    "            if RowAmount > greatestProfitIncreaseAmount: #New higher profit\n",
    "                greatestProfitIncreaseAmount = RowAmount\n",
    "                greatestProfitIncreaseMonth = RowMonth \n",
    "        else: #loss\n",
    "            if RowAmount < greatestProfitDecreaseAmount: #New lower profit\n",
    "                greatestProfitDecreaseAmount = RowAmount\n",
    "                greatestProfitDecreaseMonth = RowMonth\n",
    "\n",
    "        \n",
    "        #greatest decrease in profits (date & amount)\n",
    "        \n",
    "    #Display results\n",
    "    print(f\"Total months: {monthCount}\")\n",
    "    print(f\"Total: {netTotal}\")\n",
    "    print(f\"Greatest Increase in Profits: {greatestProfitIncreaseMonth} (${greatestProfitIncreaseAmount})\")\n",
    "    print(f\"Greatest Decrease in Profits: {greatestProfitDecreaseMonth} (${greatestProfitDecreaseAmount})\")\n",
    "           "
   ]
  },
  {
   "cell_type": "code",
   "execution_count": 21,
   "metadata": {},
   "outputs": [],
   "source": [
    "#path to output text file\n",
    "#txt_output = os.path.join(\".\", \"output\", \"PyBank_text_output.txt\")"
   ]
  },
  {
   "cell_type": "code",
   "execution_count": null,
   "metadata": {},
   "outputs": [],
   "source": [
    "#Open file in write mode and specify variable to hold contents\n",
    "#with open(txt_output, 'w', newline = \"\") as txt_file:\n",
    "    #initialize txt writer\n",
    "    #txt_file.write(f\"Total months: {monthCount}\")\n",
    "    #txt_file.write(f\"Total: {netTotal}\")\n",
    "    #txt_file.write(f\"Greatest Increase in Profits: {greatestProfitIncreaseMonth} (${greatestProfitIncreaseAmount})\")\n",
    "    #txt_file.write(f\"Greatest Decrease in Profits: {greatestProfitDecreaseMonth} (${greatestProfitDecreaseAmount})\")\n",
    "           \n",
    "    "
   ]
  },
  {
   "cell_type": "code",
   "execution_count": null,
   "metadata": {},
   "outputs": [],
   "source": [
    "writeFile = './input.txt'\n",
    "\n",
    "#open file with basic write \n",
    "with open(writeFile, 'w') as textFile:\n",
    "    textFile.write(f\"Total months: {monthCount}\")"
   ]
  },
  {
   "cell_type": "code",
   "execution_count": null,
   "metadata": {},
   "outputs": [],
   "source": [
    "file = open(“PyBank_Output.txt”,”w”) \n",
    "file.write (f\"Total months: {monthCount}\")"
   ]
  },
  {
   "cell_type": "code",
   "execution_count": null,
   "metadata": {},
   "outputs": [],
   "source": []
  }
 ],
 "metadata": {
  "kernelspec": {
   "display_name": "Python 3",
   "language": "python",
   "name": "python3"
  },
  "language_info": {
   "codemirror_mode": {
    "name": "ipython",
    "version": 3
   },
   "file_extension": ".py",
   "mimetype": "text/x-python",
   "name": "python",
   "nbconvert_exporter": "python",
   "pygments_lexer": "ipython3",
   "version": "3.6.5"
  }
 },
 "nbformat": 4,
 "nbformat_minor": 2
}
